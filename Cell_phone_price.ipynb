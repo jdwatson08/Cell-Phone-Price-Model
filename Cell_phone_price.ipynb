{
  "nbformat": 4,
  "nbformat_minor": 0,
  "metadata": {
    "colab": {
      "provenance": []
    },
    "kernelspec": {
      "name": "python3",
      "display_name": "Python 3"
    },
    "language_info": {
      "name": "python"
    }
  },
  "cells": [
    {
      "cell_type": "code",
      "execution_count": 1,
      "metadata": {
        "id": "nMmpdjEsMmrk"
      },
      "outputs": [],
      "source": [
        "#Dataset is from\n",
        "#https://www.kaggle.com/datasets/pratikgarai/mobile-phone-specifications-and-prices\n",
        "\n",
        "import pandas as pd\n",
        "from sklearn.model_selection import train_test_split\n",
        "from sklearn.ensemble import RandomForestClassifier\n",
        "import matplotlib.pyplot as plt\n",
        "from sklearn.metrics import mean_absolute_error, r2_score\n",
        "from sklearn.model_selection import RandomizedSearchCV\n",
        "from sklearn.pipeline import make_pipeline\n",
        "from sklearn.impute import SimpleImputer\n",
        "import seaborn as sns\n",
        "import numpy as np\n",
        "from sklearn.preprocessing import OneHotEncoder, OrdinalEncoder, StandardScaler\n",
        "from sklearn.compose import ColumnTransformer\n",
        "from sklearn.linear_model import LinearRegression, LogisticRegression, Ridge\n",
        "from sklearn.ensemble import RandomForestClassifier"
      ]
    },
    {
      "cell_type": "code",
      "source": [
        "from google.colab import drive\n",
        "drive.mount('/content/gdrive')"
      ],
      "metadata": {
        "colab": {
          "base_uri": "https://localhost:8080/"
        },
        "id": "nqPmFzqCMqnn",
        "outputId": "d7ce112c-f074-47c5-bfa1-5b07ae7deb64"
      },
      "execution_count": 2,
      "outputs": [
        {
          "output_type": "stream",
          "name": "stdout",
          "text": [
            "Mounted at /content/gdrive\n"
          ]
        }
      ]
    },
    {
      "cell_type": "code",
      "source": [
        "%cd /content/gdrive/My Drive/Kaggle"
      ],
      "metadata": {
        "colab": {
          "base_uri": "https://localhost:8080/"
        },
        "id": "2uUT6CF0MyvT",
        "outputId": "e74f8b45-7194-427b-966c-e5b50016d69d"
      },
      "execution_count": 3,
      "outputs": [
        {
          "output_type": "stream",
          "name": "stdout",
          "text": [
            "/content/gdrive/My Drive/Kaggle\n"
          ]
        }
      ]
    },
    {
      "cell_type": "code",
      "source": [
        "!unzip \\*.zip && rm *.zip"
      ],
      "metadata": {
        "colab": {
          "base_uri": "https://localhost:8080/"
        },
        "id": "3N-bXTonMzGt",
        "outputId": "7e689f78-d9d9-4a6d-8108-ad300e111f09"
      },
      "execution_count": 4,
      "outputs": [
        {
          "output_type": "stream",
          "name": "stdout",
          "text": [
            "unzip:  cannot find or open *.zip, *.zip.zip or *.zip.ZIP.\n",
            "\n",
            "No zipfiles found.\n"
          ]
        }
      ]
    },
    {
      "cell_type": "code",
      "source": [
        "#Wrangle function\n",
        "\n",
        "def wrangle(filepath):\n",
        "\n",
        "  df = pd.read_csv('ndtv_data_final.csv')\n",
        "\n",
        "  #Drop Duplicate Column\n",
        "  df.drop(columns = ['Unnamed: 0','Name'], inplace=True)\n",
        "\n",
        "  #Feature engineer total pixels and move new column to position after Resolution\n",
        "  df['Screen_pixels'] = df['Resolution x'] * df['Resolution y']\n",
        "\n",
        "  new_order = ['Brand', 'Model', 'Battery capacity (mAh)',\n",
        "       'Screen size (inches)', 'Touchscreen', 'Resolution x', 'Resolution y', 'Screen_pixels',\n",
        "       'Processor', 'RAM (MB)', 'Internal storage (GB)', 'Rear camera',\n",
        "       'Front camera', 'Operating system', 'Wi-Fi', 'Bluetooth', 'GPS',\n",
        "       'Number of SIMs', '3G', '4G/ LTE', 'Price']\n",
        "  df = df.loc[:,new_order]\n",
        "\n",
        "\n",
        "  #Encode Yes and No to 1 and 0 respectively\n",
        "  df['Touchscreen'] = df['Touchscreen'].str.replace('Yes', '1')\n",
        "  df['Touchscreen'] = df['Touchscreen'].str.replace('No', '0')\n",
        "\n",
        "  df['Wi-Fi'] = df['Wi-Fi'].str.replace('Yes', '1')\n",
        "  df['Wi-Fi'] = df['Wi-Fi'].str.replace('No', '0')\n",
        "\n",
        "  df['Bluetooth'] = df['Bluetooth'].str.replace('Yes', '1')\n",
        "  df['Bluetooth'] = df['Bluetooth'].str.replace('No', '0')\n",
        "\n",
        "  df['GPS'] = df['GPS'].str.replace('Yes', '1')\n",
        "  df['GPS'] = df['GPS'].str.replace('No', '0')\n",
        "\n",
        "  df['4G/ LTE'] = df['4G/ LTE'].str.replace('Yes', '1')\n",
        "  df['4G/ LTE'] = df['4G/ LTE'].str.replace('No', '0')\n",
        "\n",
        "  df['3G'] = df['3G'].str.replace('Yes', '1')\n",
        "  df['3G'] = df['3G'].str.replace('No', '0')\n",
        "\n",
        "  \n",
        "\n",
        "  df.rename(columns = {'Resolution x':'Resolution_Width', 'Resolution y':'Resolution_Height'},inplace=True)\n",
        "  \n",
        "  #Replace spaces with underscores\n",
        "  df.columns = df.columns.str.replace(\" \",\"_\")\n",
        "  \n",
        "  return df"
      ],
      "metadata": {
        "id": "F4HIM8IIM141"
      },
      "execution_count": 5,
      "outputs": []
    },
    {
      "cell_type": "code",
      "source": [
        "df = wrangle('ndtv_data_final.csv')"
      ],
      "metadata": {
        "id": "VrgsryKoNBLc"
      },
      "execution_count": 6,
      "outputs": []
    },
    {
      "cell_type": "markdown",
      "source": [
        "# Exploratory Data Analysis"
      ],
      "metadata": {
        "id": "W7UcthcKejEP"
      }
    },
    {
      "cell_type": "code",
      "source": [
        "# new_order = ['Name', 'Brand', 'Model', 'Battery capacity (mAh)',\n",
        "#        'Screen size (inches)', 'Touchscreen', 'Resolution x', 'Resolution y', 'Screen_pixels',\n",
        "#        'Processor', 'RAM (MB)', 'Internal storage (GB)', 'Rear camera',\n",
        "#        'Front camera', 'Operating system', 'Wi-Fi', 'Bluetooth', 'GPS',\n",
        "#        'Number of SIMs', '3G', '4G/ LTE', 'Price']\n",
        "# df.loc[:,new_order]\n"
      ],
      "metadata": {
        "id": "LhePTogAOHbk"
      },
      "execution_count": 7,
      "outputs": []
    },
    {
      "cell_type": "code",
      "source": [
        "df['Operating_system'].value_counts()"
      ],
      "metadata": {
        "colab": {
          "base_uri": "https://localhost:8080/"
        },
        "id": "mn7jfdsjQiAR",
        "outputId": "31b0912d-9c53-44cc-a7d1-159d76a2dd25"
      },
      "execution_count": 8,
      "outputs": [
        {
          "output_type": "execute_result",
          "data": {
            "text/plain": [
              "Android       1299\n",
              "Windows         19\n",
              "iOS             17\n",
              "Cyanogen        10\n",
              "BlackBerry      10\n",
              "Tizen            3\n",
              "Sailfish         1\n",
              "Name: Operating_system, dtype: int64"
            ]
          },
          "metadata": {},
          "execution_count": 8
        }
      ]
    },
    {
      "cell_type": "code",
      "source": [
        "onehot = pd.get_dummies(df['Operating_system'])\n",
        "onehot"
      ],
      "metadata": {
        "colab": {
          "base_uri": "https://localhost:8080/",
          "height": 424
        },
        "id": "IVV-U3lzbRO1",
        "outputId": "f86dd8cf-39fb-41e6-fcb1-901fdcdd1080"
      },
      "execution_count": 9,
      "outputs": [
        {
          "output_type": "execute_result",
          "data": {
            "text/plain": [
              "      Android  BlackBerry  Cyanogen  Sailfish  Tizen  Windows  iOS\n",
              "0           1           0         0         0      0        0    0\n",
              "1           1           0         0         0      0        0    0\n",
              "2           0           0         0         0      0        0    1\n",
              "3           0           0         0         0      0        0    1\n",
              "4           1           0         0         0      0        0    0\n",
              "...       ...         ...       ...       ...    ...      ...  ...\n",
              "1354        1           0         0         0      0        0    0\n",
              "1355        1           0         0         0      0        0    0\n",
              "1356        1           0         0         0      0        0    0\n",
              "1357        1           0         0         0      0        0    0\n",
              "1358        1           0         0         0      0        0    0\n",
              "\n",
              "[1359 rows x 7 columns]"
            ],
            "text/html": [
              "\n",
              "  <div id=\"df-7450e7c9-ecfb-4faf-9746-ebb78ab23821\">\n",
              "    <div class=\"colab-df-container\">\n",
              "      <div>\n",
              "<style scoped>\n",
              "    .dataframe tbody tr th:only-of-type {\n",
              "        vertical-align: middle;\n",
              "    }\n",
              "\n",
              "    .dataframe tbody tr th {\n",
              "        vertical-align: top;\n",
              "    }\n",
              "\n",
              "    .dataframe thead th {\n",
              "        text-align: right;\n",
              "    }\n",
              "</style>\n",
              "<table border=\"1\" class=\"dataframe\">\n",
              "  <thead>\n",
              "    <tr style=\"text-align: right;\">\n",
              "      <th></th>\n",
              "      <th>Android</th>\n",
              "      <th>BlackBerry</th>\n",
              "      <th>Cyanogen</th>\n",
              "      <th>Sailfish</th>\n",
              "      <th>Tizen</th>\n",
              "      <th>Windows</th>\n",
              "      <th>iOS</th>\n",
              "    </tr>\n",
              "  </thead>\n",
              "  <tbody>\n",
              "    <tr>\n",
              "      <th>0</th>\n",
              "      <td>1</td>\n",
              "      <td>0</td>\n",
              "      <td>0</td>\n",
              "      <td>0</td>\n",
              "      <td>0</td>\n",
              "      <td>0</td>\n",
              "      <td>0</td>\n",
              "    </tr>\n",
              "    <tr>\n",
              "      <th>1</th>\n",
              "      <td>1</td>\n",
              "      <td>0</td>\n",
              "      <td>0</td>\n",
              "      <td>0</td>\n",
              "      <td>0</td>\n",
              "      <td>0</td>\n",
              "      <td>0</td>\n",
              "    </tr>\n",
              "    <tr>\n",
              "      <th>2</th>\n",
              "      <td>0</td>\n",
              "      <td>0</td>\n",
              "      <td>0</td>\n",
              "      <td>0</td>\n",
              "      <td>0</td>\n",
              "      <td>0</td>\n",
              "      <td>1</td>\n",
              "    </tr>\n",
              "    <tr>\n",
              "      <th>3</th>\n",
              "      <td>0</td>\n",
              "      <td>0</td>\n",
              "      <td>0</td>\n",
              "      <td>0</td>\n",
              "      <td>0</td>\n",
              "      <td>0</td>\n",
              "      <td>1</td>\n",
              "    </tr>\n",
              "    <tr>\n",
              "      <th>4</th>\n",
              "      <td>1</td>\n",
              "      <td>0</td>\n",
              "      <td>0</td>\n",
              "      <td>0</td>\n",
              "      <td>0</td>\n",
              "      <td>0</td>\n",
              "      <td>0</td>\n",
              "    </tr>\n",
              "    <tr>\n",
              "      <th>...</th>\n",
              "      <td>...</td>\n",
              "      <td>...</td>\n",
              "      <td>...</td>\n",
              "      <td>...</td>\n",
              "      <td>...</td>\n",
              "      <td>...</td>\n",
              "      <td>...</td>\n",
              "    </tr>\n",
              "    <tr>\n",
              "      <th>1354</th>\n",
              "      <td>1</td>\n",
              "      <td>0</td>\n",
              "      <td>0</td>\n",
              "      <td>0</td>\n",
              "      <td>0</td>\n",
              "      <td>0</td>\n",
              "      <td>0</td>\n",
              "    </tr>\n",
              "    <tr>\n",
              "      <th>1355</th>\n",
              "      <td>1</td>\n",
              "      <td>0</td>\n",
              "      <td>0</td>\n",
              "      <td>0</td>\n",
              "      <td>0</td>\n",
              "      <td>0</td>\n",
              "      <td>0</td>\n",
              "    </tr>\n",
              "    <tr>\n",
              "      <th>1356</th>\n",
              "      <td>1</td>\n",
              "      <td>0</td>\n",
              "      <td>0</td>\n",
              "      <td>0</td>\n",
              "      <td>0</td>\n",
              "      <td>0</td>\n",
              "      <td>0</td>\n",
              "    </tr>\n",
              "    <tr>\n",
              "      <th>1357</th>\n",
              "      <td>1</td>\n",
              "      <td>0</td>\n",
              "      <td>0</td>\n",
              "      <td>0</td>\n",
              "      <td>0</td>\n",
              "      <td>0</td>\n",
              "      <td>0</td>\n",
              "    </tr>\n",
              "    <tr>\n",
              "      <th>1358</th>\n",
              "      <td>1</td>\n",
              "      <td>0</td>\n",
              "      <td>0</td>\n",
              "      <td>0</td>\n",
              "      <td>0</td>\n",
              "      <td>0</td>\n",
              "      <td>0</td>\n",
              "    </tr>\n",
              "  </tbody>\n",
              "</table>\n",
              "<p>1359 rows × 7 columns</p>\n",
              "</div>\n",
              "      <button class=\"colab-df-convert\" onclick=\"convertToInteractive('df-7450e7c9-ecfb-4faf-9746-ebb78ab23821')\"\n",
              "              title=\"Convert this dataframe to an interactive table.\"\n",
              "              style=\"display:none;\">\n",
              "        \n",
              "  <svg xmlns=\"http://www.w3.org/2000/svg\" height=\"24px\"viewBox=\"0 0 24 24\"\n",
              "       width=\"24px\">\n",
              "    <path d=\"M0 0h24v24H0V0z\" fill=\"none\"/>\n",
              "    <path d=\"M18.56 5.44l.94 2.06.94-2.06 2.06-.94-2.06-.94-.94-2.06-.94 2.06-2.06.94zm-11 1L8.5 8.5l.94-2.06 2.06-.94-2.06-.94L8.5 2.5l-.94 2.06-2.06.94zm10 10l.94 2.06.94-2.06 2.06-.94-2.06-.94-.94-2.06-.94 2.06-2.06.94z\"/><path d=\"M17.41 7.96l-1.37-1.37c-.4-.4-.92-.59-1.43-.59-.52 0-1.04.2-1.43.59L10.3 9.45l-7.72 7.72c-.78.78-.78 2.05 0 2.83L4 21.41c.39.39.9.59 1.41.59.51 0 1.02-.2 1.41-.59l7.78-7.78 2.81-2.81c.8-.78.8-2.07 0-2.86zM5.41 20L4 18.59l7.72-7.72 1.47 1.35L5.41 20z\"/>\n",
              "  </svg>\n",
              "      </button>\n",
              "      \n",
              "  <style>\n",
              "    .colab-df-container {\n",
              "      display:flex;\n",
              "      flex-wrap:wrap;\n",
              "      gap: 12px;\n",
              "    }\n",
              "\n",
              "    .colab-df-convert {\n",
              "      background-color: #E8F0FE;\n",
              "      border: none;\n",
              "      border-radius: 50%;\n",
              "      cursor: pointer;\n",
              "      display: none;\n",
              "      fill: #1967D2;\n",
              "      height: 32px;\n",
              "      padding: 0 0 0 0;\n",
              "      width: 32px;\n",
              "    }\n",
              "\n",
              "    .colab-df-convert:hover {\n",
              "      background-color: #E2EBFA;\n",
              "      box-shadow: 0px 1px 2px rgba(60, 64, 67, 0.3), 0px 1px 3px 1px rgba(60, 64, 67, 0.15);\n",
              "      fill: #174EA6;\n",
              "    }\n",
              "\n",
              "    [theme=dark] .colab-df-convert {\n",
              "      background-color: #3B4455;\n",
              "      fill: #D2E3FC;\n",
              "    }\n",
              "\n",
              "    [theme=dark] .colab-df-convert:hover {\n",
              "      background-color: #434B5C;\n",
              "      box-shadow: 0px 1px 3px 1px rgba(0, 0, 0, 0.15);\n",
              "      filter: drop-shadow(0px 1px 2px rgba(0, 0, 0, 0.3));\n",
              "      fill: #FFFFFF;\n",
              "    }\n",
              "  </style>\n",
              "\n",
              "      <script>\n",
              "        const buttonEl =\n",
              "          document.querySelector('#df-7450e7c9-ecfb-4faf-9746-ebb78ab23821 button.colab-df-convert');\n",
              "        buttonEl.style.display =\n",
              "          google.colab.kernel.accessAllowed ? 'block' : 'none';\n",
              "\n",
              "        async function convertToInteractive(key) {\n",
              "          const element = document.querySelector('#df-7450e7c9-ecfb-4faf-9746-ebb78ab23821');\n",
              "          const dataTable =\n",
              "            await google.colab.kernel.invokeFunction('convertToInteractive',\n",
              "                                                     [key], {});\n",
              "          if (!dataTable) return;\n",
              "\n",
              "          const docLinkHtml = 'Like what you see? Visit the ' +\n",
              "            '<a target=\"_blank\" href=https://colab.research.google.com/notebooks/data_table.ipynb>data table notebook</a>'\n",
              "            + ' to learn more about interactive tables.';\n",
              "          element.innerHTML = '';\n",
              "          dataTable['output_type'] = 'display_data';\n",
              "          await google.colab.output.renderOutput(dataTable, element);\n",
              "          const docLink = document.createElement('div');\n",
              "          docLink.innerHTML = docLinkHtml;\n",
              "          element.appendChild(docLink);\n",
              "        }\n",
              "      </script>\n",
              "    </div>\n",
              "  </div>\n",
              "  "
            ]
          },
          "metadata": {},
          "execution_count": 9
        }
      ]
    },
    {
      "cell_type": "code",
      "source": [
        "onehot = pd.DataFrame(onehot)\n"
      ],
      "metadata": {
        "id": "abu3fL-Ze6pw"
      },
      "execution_count": 10,
      "outputs": []
    },
    {
      "cell_type": "code",
      "source": [
        "df = pd.concat([df,onehot],axis=1)"
      ],
      "metadata": {
        "id": "pnDXy-5Oflae"
      },
      "execution_count": 11,
      "outputs": []
    },
    {
      "cell_type": "code",
      "source": [
        "df"
      ],
      "metadata": {
        "colab": {
          "base_uri": "https://localhost:8080/",
          "height": 678
        },
        "id": "GsuFI9MWnREt",
        "outputId": "11dfbd5f-6c44-4b57-b8cf-8738d84ccaae"
      },
      "execution_count": 12,
      "outputs": [
        {
          "output_type": "execute_result",
          "data": {
            "text/plain": [
              "         Brand                   Model  Battery_capacity_(mAh)  \\\n",
              "0      OnePlus  7T Pro McLaren Edition                    4085   \n",
              "1       Realme                  X2 Pro                    4000   \n",
              "2        Apple       iPhone 11 Pro Max                    3969   \n",
              "3        Apple               iPhone 11                    3110   \n",
              "4           LG               G8X ThinQ                    4000   \n",
              "...        ...                     ...                     ...   \n",
              "1354     Intex                 Aqua A2                    1500   \n",
              "1355  Videocon      Infinium Z51 Nova+                    2000   \n",
              "1356     Intex                 Aqua Y4                    1700   \n",
              "1357     iBall               Andi4 B20                    1250   \n",
              "1358     iBall           Andi Avonte 5                    2150   \n",
              "\n",
              "      Screen_size_(inches) Touchscreen  Resolution_Width  Resolution_Height  \\\n",
              "0                     6.67           1              1440               3120   \n",
              "1                     6.50           1              1080               2400   \n",
              "2                     6.50           1              1242               2688   \n",
              "3                     6.10           1               828               1792   \n",
              "4                     6.40           1              1080               2340   \n",
              "...                    ...         ...               ...                ...   \n",
              "1354                  4.00           1               480                800   \n",
              "1355                  5.00           1               480                854   \n",
              "1356                  4.50           1               480                854   \n",
              "1357                  4.00           1               480                800   \n",
              "1358                  5.00           1               480                854   \n",
              "\n",
              "      Screen_pixels  Processor  RAM_(MB)  ...  3G  4G/_LTE   Price Android  \\\n",
              "0           4492800          8     12000  ...   1        1   58998       1   \n",
              "1           2592000          8      6000  ...   1        1   27999       1   \n",
              "2           3338496          6      4000  ...   1        1  106900       0   \n",
              "3           1483776          6      4000  ...   1        1   62900       0   \n",
              "4           2527200          8      6000  ...   0        0   49990       1   \n",
              "...             ...        ...       ...  ...  ..      ...     ...     ...   \n",
              "1354         384000          4       512  ...   1        0    2599       1   \n",
              "1355         409920          4      1000  ...   1        0    2940       1   \n",
              "1356         409920          2       512  ...   1        0    2999       1   \n",
              "1357         384000          1       256  ...   1        0    2498       1   \n",
              "1358         409920          4      1000  ...   1        0    3999       1   \n",
              "\n",
              "     BlackBerry Cyanogen Sailfish  Tizen Windows iOS  \n",
              "0             0        0        0      0       0   0  \n",
              "1             0        0        0      0       0   0  \n",
              "2             0        0        0      0       0   1  \n",
              "3             0        0        0      0       0   1  \n",
              "4             0        0        0      0       0   0  \n",
              "...         ...      ...      ...    ...     ...  ..  \n",
              "1354          0        0        0      0       0   0  \n",
              "1355          0        0        0      0       0   0  \n",
              "1356          0        0        0      0       0   0  \n",
              "1357          0        0        0      0       0   0  \n",
              "1358          0        0        0      0       0   0  \n",
              "\n",
              "[1359 rows x 28 columns]"
            ],
            "text/html": [
              "\n",
              "  <div id=\"df-2a2a0d5a-0b53-4156-8576-327c63256b90\">\n",
              "    <div class=\"colab-df-container\">\n",
              "      <div>\n",
              "<style scoped>\n",
              "    .dataframe tbody tr th:only-of-type {\n",
              "        vertical-align: middle;\n",
              "    }\n",
              "\n",
              "    .dataframe tbody tr th {\n",
              "        vertical-align: top;\n",
              "    }\n",
              "\n",
              "    .dataframe thead th {\n",
              "        text-align: right;\n",
              "    }\n",
              "</style>\n",
              "<table border=\"1\" class=\"dataframe\">\n",
              "  <thead>\n",
              "    <tr style=\"text-align: right;\">\n",
              "      <th></th>\n",
              "      <th>Brand</th>\n",
              "      <th>Model</th>\n",
              "      <th>Battery_capacity_(mAh)</th>\n",
              "      <th>Screen_size_(inches)</th>\n",
              "      <th>Touchscreen</th>\n",
              "      <th>Resolution_Width</th>\n",
              "      <th>Resolution_Height</th>\n",
              "      <th>Screen_pixels</th>\n",
              "      <th>Processor</th>\n",
              "      <th>RAM_(MB)</th>\n",
              "      <th>...</th>\n",
              "      <th>3G</th>\n",
              "      <th>4G/_LTE</th>\n",
              "      <th>Price</th>\n",
              "      <th>Android</th>\n",
              "      <th>BlackBerry</th>\n",
              "      <th>Cyanogen</th>\n",
              "      <th>Sailfish</th>\n",
              "      <th>Tizen</th>\n",
              "      <th>Windows</th>\n",
              "      <th>iOS</th>\n",
              "    </tr>\n",
              "  </thead>\n",
              "  <tbody>\n",
              "    <tr>\n",
              "      <th>0</th>\n",
              "      <td>OnePlus</td>\n",
              "      <td>7T Pro McLaren Edition</td>\n",
              "      <td>4085</td>\n",
              "      <td>6.67</td>\n",
              "      <td>1</td>\n",
              "      <td>1440</td>\n",
              "      <td>3120</td>\n",
              "      <td>4492800</td>\n",
              "      <td>8</td>\n",
              "      <td>12000</td>\n",
              "      <td>...</td>\n",
              "      <td>1</td>\n",
              "      <td>1</td>\n",
              "      <td>58998</td>\n",
              "      <td>1</td>\n",
              "      <td>0</td>\n",
              "      <td>0</td>\n",
              "      <td>0</td>\n",
              "      <td>0</td>\n",
              "      <td>0</td>\n",
              "      <td>0</td>\n",
              "    </tr>\n",
              "    <tr>\n",
              "      <th>1</th>\n",
              "      <td>Realme</td>\n",
              "      <td>X2 Pro</td>\n",
              "      <td>4000</td>\n",
              "      <td>6.50</td>\n",
              "      <td>1</td>\n",
              "      <td>1080</td>\n",
              "      <td>2400</td>\n",
              "      <td>2592000</td>\n",
              "      <td>8</td>\n",
              "      <td>6000</td>\n",
              "      <td>...</td>\n",
              "      <td>1</td>\n",
              "      <td>1</td>\n",
              "      <td>27999</td>\n",
              "      <td>1</td>\n",
              "      <td>0</td>\n",
              "      <td>0</td>\n",
              "      <td>0</td>\n",
              "      <td>0</td>\n",
              "      <td>0</td>\n",
              "      <td>0</td>\n",
              "    </tr>\n",
              "    <tr>\n",
              "      <th>2</th>\n",
              "      <td>Apple</td>\n",
              "      <td>iPhone 11 Pro Max</td>\n",
              "      <td>3969</td>\n",
              "      <td>6.50</td>\n",
              "      <td>1</td>\n",
              "      <td>1242</td>\n",
              "      <td>2688</td>\n",
              "      <td>3338496</td>\n",
              "      <td>6</td>\n",
              "      <td>4000</td>\n",
              "      <td>...</td>\n",
              "      <td>1</td>\n",
              "      <td>1</td>\n",
              "      <td>106900</td>\n",
              "      <td>0</td>\n",
              "      <td>0</td>\n",
              "      <td>0</td>\n",
              "      <td>0</td>\n",
              "      <td>0</td>\n",
              "      <td>0</td>\n",
              "      <td>1</td>\n",
              "    </tr>\n",
              "    <tr>\n",
              "      <th>3</th>\n",
              "      <td>Apple</td>\n",
              "      <td>iPhone 11</td>\n",
              "      <td>3110</td>\n",
              "      <td>6.10</td>\n",
              "      <td>1</td>\n",
              "      <td>828</td>\n",
              "      <td>1792</td>\n",
              "      <td>1483776</td>\n",
              "      <td>6</td>\n",
              "      <td>4000</td>\n",
              "      <td>...</td>\n",
              "      <td>1</td>\n",
              "      <td>1</td>\n",
              "      <td>62900</td>\n",
              "      <td>0</td>\n",
              "      <td>0</td>\n",
              "      <td>0</td>\n",
              "      <td>0</td>\n",
              "      <td>0</td>\n",
              "      <td>0</td>\n",
              "      <td>1</td>\n",
              "    </tr>\n",
              "    <tr>\n",
              "      <th>4</th>\n",
              "      <td>LG</td>\n",
              "      <td>G8X ThinQ</td>\n",
              "      <td>4000</td>\n",
              "      <td>6.40</td>\n",
              "      <td>1</td>\n",
              "      <td>1080</td>\n",
              "      <td>2340</td>\n",
              "      <td>2527200</td>\n",
              "      <td>8</td>\n",
              "      <td>6000</td>\n",
              "      <td>...</td>\n",
              "      <td>0</td>\n",
              "      <td>0</td>\n",
              "      <td>49990</td>\n",
              "      <td>1</td>\n",
              "      <td>0</td>\n",
              "      <td>0</td>\n",
              "      <td>0</td>\n",
              "      <td>0</td>\n",
              "      <td>0</td>\n",
              "      <td>0</td>\n",
              "    </tr>\n",
              "    <tr>\n",
              "      <th>...</th>\n",
              "      <td>...</td>\n",
              "      <td>...</td>\n",
              "      <td>...</td>\n",
              "      <td>...</td>\n",
              "      <td>...</td>\n",
              "      <td>...</td>\n",
              "      <td>...</td>\n",
              "      <td>...</td>\n",
              "      <td>...</td>\n",
              "      <td>...</td>\n",
              "      <td>...</td>\n",
              "      <td>...</td>\n",
              "      <td>...</td>\n",
              "      <td>...</td>\n",
              "      <td>...</td>\n",
              "      <td>...</td>\n",
              "      <td>...</td>\n",
              "      <td>...</td>\n",
              "      <td>...</td>\n",
              "      <td>...</td>\n",
              "      <td>...</td>\n",
              "    </tr>\n",
              "    <tr>\n",
              "      <th>1354</th>\n",
              "      <td>Intex</td>\n",
              "      <td>Aqua A2</td>\n",
              "      <td>1500</td>\n",
              "      <td>4.00</td>\n",
              "      <td>1</td>\n",
              "      <td>480</td>\n",
              "      <td>800</td>\n",
              "      <td>384000</td>\n",
              "      <td>4</td>\n",
              "      <td>512</td>\n",
              "      <td>...</td>\n",
              "      <td>1</td>\n",
              "      <td>0</td>\n",
              "      <td>2599</td>\n",
              "      <td>1</td>\n",
              "      <td>0</td>\n",
              "      <td>0</td>\n",
              "      <td>0</td>\n",
              "      <td>0</td>\n",
              "      <td>0</td>\n",
              "      <td>0</td>\n",
              "    </tr>\n",
              "    <tr>\n",
              "      <th>1355</th>\n",
              "      <td>Videocon</td>\n",
              "      <td>Infinium Z51 Nova+</td>\n",
              "      <td>2000</td>\n",
              "      <td>5.00</td>\n",
              "      <td>1</td>\n",
              "      <td>480</td>\n",
              "      <td>854</td>\n",
              "      <td>409920</td>\n",
              "      <td>4</td>\n",
              "      <td>1000</td>\n",
              "      <td>...</td>\n",
              "      <td>1</td>\n",
              "      <td>0</td>\n",
              "      <td>2940</td>\n",
              "      <td>1</td>\n",
              "      <td>0</td>\n",
              "      <td>0</td>\n",
              "      <td>0</td>\n",
              "      <td>0</td>\n",
              "      <td>0</td>\n",
              "      <td>0</td>\n",
              "    </tr>\n",
              "    <tr>\n",
              "      <th>1356</th>\n",
              "      <td>Intex</td>\n",
              "      <td>Aqua Y4</td>\n",
              "      <td>1700</td>\n",
              "      <td>4.50</td>\n",
              "      <td>1</td>\n",
              "      <td>480</td>\n",
              "      <td>854</td>\n",
              "      <td>409920</td>\n",
              "      <td>2</td>\n",
              "      <td>512</td>\n",
              "      <td>...</td>\n",
              "      <td>1</td>\n",
              "      <td>0</td>\n",
              "      <td>2999</td>\n",
              "      <td>1</td>\n",
              "      <td>0</td>\n",
              "      <td>0</td>\n",
              "      <td>0</td>\n",
              "      <td>0</td>\n",
              "      <td>0</td>\n",
              "      <td>0</td>\n",
              "    </tr>\n",
              "    <tr>\n",
              "      <th>1357</th>\n",
              "      <td>iBall</td>\n",
              "      <td>Andi4 B20</td>\n",
              "      <td>1250</td>\n",
              "      <td>4.00</td>\n",
              "      <td>1</td>\n",
              "      <td>480</td>\n",
              "      <td>800</td>\n",
              "      <td>384000</td>\n",
              "      <td>1</td>\n",
              "      <td>256</td>\n",
              "      <td>...</td>\n",
              "      <td>1</td>\n",
              "      <td>0</td>\n",
              "      <td>2498</td>\n",
              "      <td>1</td>\n",
              "      <td>0</td>\n",
              "      <td>0</td>\n",
              "      <td>0</td>\n",
              "      <td>0</td>\n",
              "      <td>0</td>\n",
              "      <td>0</td>\n",
              "    </tr>\n",
              "    <tr>\n",
              "      <th>1358</th>\n",
              "      <td>iBall</td>\n",
              "      <td>Andi Avonte 5</td>\n",
              "      <td>2150</td>\n",
              "      <td>5.00</td>\n",
              "      <td>1</td>\n",
              "      <td>480</td>\n",
              "      <td>854</td>\n",
              "      <td>409920</td>\n",
              "      <td>4</td>\n",
              "      <td>1000</td>\n",
              "      <td>...</td>\n",
              "      <td>1</td>\n",
              "      <td>0</td>\n",
              "      <td>3999</td>\n",
              "      <td>1</td>\n",
              "      <td>0</td>\n",
              "      <td>0</td>\n",
              "      <td>0</td>\n",
              "      <td>0</td>\n",
              "      <td>0</td>\n",
              "      <td>0</td>\n",
              "    </tr>\n",
              "  </tbody>\n",
              "</table>\n",
              "<p>1359 rows × 28 columns</p>\n",
              "</div>\n",
              "      <button class=\"colab-df-convert\" onclick=\"convertToInteractive('df-2a2a0d5a-0b53-4156-8576-327c63256b90')\"\n",
              "              title=\"Convert this dataframe to an interactive table.\"\n",
              "              style=\"display:none;\">\n",
              "        \n",
              "  <svg xmlns=\"http://www.w3.org/2000/svg\" height=\"24px\"viewBox=\"0 0 24 24\"\n",
              "       width=\"24px\">\n",
              "    <path d=\"M0 0h24v24H0V0z\" fill=\"none\"/>\n",
              "    <path d=\"M18.56 5.44l.94 2.06.94-2.06 2.06-.94-2.06-.94-.94-2.06-.94 2.06-2.06.94zm-11 1L8.5 8.5l.94-2.06 2.06-.94-2.06-.94L8.5 2.5l-.94 2.06-2.06.94zm10 10l.94 2.06.94-2.06 2.06-.94-2.06-.94-.94-2.06-.94 2.06-2.06.94z\"/><path d=\"M17.41 7.96l-1.37-1.37c-.4-.4-.92-.59-1.43-.59-.52 0-1.04.2-1.43.59L10.3 9.45l-7.72 7.72c-.78.78-.78 2.05 0 2.83L4 21.41c.39.39.9.59 1.41.59.51 0 1.02-.2 1.41-.59l7.78-7.78 2.81-2.81c.8-.78.8-2.07 0-2.86zM5.41 20L4 18.59l7.72-7.72 1.47 1.35L5.41 20z\"/>\n",
              "  </svg>\n",
              "      </button>\n",
              "      \n",
              "  <style>\n",
              "    .colab-df-container {\n",
              "      display:flex;\n",
              "      flex-wrap:wrap;\n",
              "      gap: 12px;\n",
              "    }\n",
              "\n",
              "    .colab-df-convert {\n",
              "      background-color: #E8F0FE;\n",
              "      border: none;\n",
              "      border-radius: 50%;\n",
              "      cursor: pointer;\n",
              "      display: none;\n",
              "      fill: #1967D2;\n",
              "      height: 32px;\n",
              "      padding: 0 0 0 0;\n",
              "      width: 32px;\n",
              "    }\n",
              "\n",
              "    .colab-df-convert:hover {\n",
              "      background-color: #E2EBFA;\n",
              "      box-shadow: 0px 1px 2px rgba(60, 64, 67, 0.3), 0px 1px 3px 1px rgba(60, 64, 67, 0.15);\n",
              "      fill: #174EA6;\n",
              "    }\n",
              "\n",
              "    [theme=dark] .colab-df-convert {\n",
              "      background-color: #3B4455;\n",
              "      fill: #D2E3FC;\n",
              "    }\n",
              "\n",
              "    [theme=dark] .colab-df-convert:hover {\n",
              "      background-color: #434B5C;\n",
              "      box-shadow: 0px 1px 3px 1px rgba(0, 0, 0, 0.15);\n",
              "      filter: drop-shadow(0px 1px 2px rgba(0, 0, 0, 0.3));\n",
              "      fill: #FFFFFF;\n",
              "    }\n",
              "  </style>\n",
              "\n",
              "      <script>\n",
              "        const buttonEl =\n",
              "          document.querySelector('#df-2a2a0d5a-0b53-4156-8576-327c63256b90 button.colab-df-convert');\n",
              "        buttonEl.style.display =\n",
              "          google.colab.kernel.accessAllowed ? 'block' : 'none';\n",
              "\n",
              "        async function convertToInteractive(key) {\n",
              "          const element = document.querySelector('#df-2a2a0d5a-0b53-4156-8576-327c63256b90');\n",
              "          const dataTable =\n",
              "            await google.colab.kernel.invokeFunction('convertToInteractive',\n",
              "                                                     [key], {});\n",
              "          if (!dataTable) return;\n",
              "\n",
              "          const docLinkHtml = 'Like what you see? Visit the ' +\n",
              "            '<a target=\"_blank\" href=https://colab.research.google.com/notebooks/data_table.ipynb>data table notebook</a>'\n",
              "            + ' to learn more about interactive tables.';\n",
              "          element.innerHTML = '';\n",
              "          dataTable['output_type'] = 'display_data';\n",
              "          await google.colab.output.renderOutput(dataTable, element);\n",
              "          const docLink = document.createElement('div');\n",
              "          docLink.innerHTML = docLinkHtml;\n",
              "          element.appendChild(docLink);\n",
              "        }\n",
              "      </script>\n",
              "    </div>\n",
              "  </div>\n",
              "  "
            ]
          },
          "metadata": {},
          "execution_count": 12
        }
      ]
    },
    {
      "cell_type": "code",
      "source": [
        "df.columns\n",
        "\n",
        "new_order2 = ['Brand', 'Model', 'Battery_capacity_(mAh)', 'Screen_size_(inches)',\n",
        "       'Touchscreen', 'Resolution_Width', 'Resolution_Height', 'Screen_pixels',\n",
        "       'Processor', 'RAM_(MB)', 'Internal_storage_(GB)', 'Rear_camera',\n",
        "       'Front_camera', 'Android', 'BlackBerry','Cyanogen', 'Sailfish', 'Tizen', \n",
        "       'Windows', 'iOS', 'Wi-Fi', 'Bluetooth', 'GPS','Number_of_SIMs', '3G', \n",
        "       '4G/_LTE', 'Price']\n",
        "df = df.loc[:,new_order2]"
      ],
      "metadata": {
        "id": "licROvL_oHiM"
      },
      "execution_count": 13,
      "outputs": []
    },
    {
      "cell_type": "code",
      "source": [
        "convert1 = ['Touchscreen','Wi-Fi', 'Bluetooth', 'GPS','3G', '4G/_LTE']\n",
        "convert2 =['Android', 'BlackBerry','Cyanogen', 'Sailfish', 'Tizen', 'Windows', 'iOS']\n",
        "\n",
        "df[convert1] = df[convert1].astype(int)\n",
        "df[convert2] = df[convert2].astype(int)"
      ],
      "metadata": {
        "id": "_tDdty1Ho-8y"
      },
      "execution_count": 14,
      "outputs": []
    },
    {
      "cell_type": "code",
      "source": [
        "df2 =df.copy()"
      ],
      "metadata": {
        "id": "jv2M3oVUqE_7"
      },
      "execution_count": 15,
      "outputs": []
    },
    {
      "cell_type": "markdown",
      "source": [
        "# Train and Fit Model"
      ],
      "metadata": {
        "id": "bkLDahp-qSlT"
      }
    },
    {
      "cell_type": "code",
      "source": [
        "target = 'Price'\n",
        "X =df.drop(columns=target)\n",
        "y=df[target]\n",
        "y.hist()"
      ],
      "metadata": {
        "colab": {
          "base_uri": "https://localhost:8080/",
          "height": 282
        },
        "id": "YNzSnwa_qd5h",
        "outputId": "04d20af7-9c00-4626-c662-10d8d1d9bf74"
      },
      "execution_count": 16,
      "outputs": [
        {
          "output_type": "execute_result",
          "data": {
            "text/plain": [
              "<matplotlib.axes._subplots.AxesSubplot at 0x7f16786345e0>"
            ]
          },
          "metadata": {},
          "execution_count": 16
        },
        {
          "output_type": "display_data",
          "data": {
            "text/plain": [
              "<Figure size 432x288 with 1 Axes>"
            ],
            "image/png": "[encoded data removed]"
          },
          "metadata": {
            "needs_background": "light"
          }
        }
      ]
    },
    {
      "cell_type": "code",
      "source": [
        "y=np.log(y)\n",
        "y.hist()"
      ],
      "metadata": {
        "colab": {
          "base_uri": "https://localhost:8080/",
          "height": 282
        },
        "id": "e_jPXc4gLahE",
        "outputId": "248b3786-ddc6-4325-ca8c-b75cf471e59d"
      },
      "execution_count": 17,
      "outputs": [
        {
          "output_type": "execute_result",
          "data": {
            "text/plain": [
              "<matplotlib.axes._subplots.AxesSubplot at 0x7f16785f8a60>"
            ]
          },
          "metadata": {},
          "execution_count": 17
        },
        {
          "output_type": "display_data",
          "data": {
            "text/plain": [
              "<Figure size 432x288 with 1 Axes>"
            ],
            "image/png": "[encoded data removed]"
          },
          "metadata": {
            "needs_background": "light"
          }
        }
      ]
    },
    {
      "cell_type": "code",
      "source": [
        "baseline = [y.mean()]* len(y)\n",
        "baseline_mae = mean_absolute_error(y, baseline)\n",
        "print('The baseline mae is: ', baseline_mae)"
      ],
      "metadata": {
        "colab": {
          "base_uri": "https://localhost:8080/"
        },
        "id": "Uy5a20HuyhbT",
        "outputId": "f764fe12-5280-45fc-8eda-73b58c22ef59"
      },
      "execution_count": 18,
      "outputs": [
        {
          "output_type": "stream",
          "name": "stdout",
          "text": [
            "The baseline mae is:  0.588906612920655\n"
          ]
        }
      ]
    },
    {
      "cell_type": "code",
      "source": [
        "X_train,X_test,y_train,y_test = train_test_split(X,y,test_size=0.2,random_state=42)"
      ],
      "metadata": {
        "id": "LIOMvGqSqvhb"
      },
      "execution_count": 19,
      "outputs": []
    },
    {
      "cell_type": "code",
      "source": [
        "\n",
        "\n",
        "model = make_pipeline(\n",
        "    OneHotEncoder(handle_unknown='ignore'),\n",
        "    LinearRegression(fit_intercept=True)\n",
        ")\n",
        "\n",
        "model.fit(X_train,y_train)"
      ],
      "metadata": {
        "colab": {
          "base_uri": "https://localhost:8080/"
        },
        "id": "3iMcG235v14x",
        "outputId": "c2fe237d-9370-4ba9-d535-6bfd0a08338f"
      },
      "execution_count": 20,
      "outputs": [
        {
          "output_type": "execute_result",
          "data": {
            "text/plain": [
              "Pipeline(steps=[('onehotencoder', OneHotEncoder(handle_unknown='ignore')),\n",
              "                ('linearregression', LinearRegression())])"
            ]
          },
          "metadata": {},
          "execution_count": 20
        }
      ]
    },
    {
      "cell_type": "code",
      "source": [
        "y_pred = model.predict(X_test)\n",
        "print(mean_absolute_error(y_test, y_pred))\n",
        "model.score(X_test,y_test)"
      ],
      "metadata": {
        "colab": {
          "base_uri": "https://localhost:8080/"
        },
        "id": "OjFcpJ-zwNaN",
        "outputId": "8ca13f6b-61ec-4ed7-b363-bc42b1c436e0"
      },
      "execution_count": 21,
      "outputs": [
        {
          "output_type": "stream",
          "name": "stdout",
          "text": [
            "0.30056254772244684\n"
          ]
        },
        {
          "output_type": "execute_result",
          "data": {
            "text/plain": [
              "0.71809090697123"
            ]
          },
          "metadata": {},
          "execution_count": 21
        }
      ]
    },
    {
      "cell_type": "markdown",
      "source": [
        "# ^^Model performs better than the baseline^^"
      ],
      "metadata": {
        "id": "_bFuUKbvy8Jb"
      }
    },
    {
      "cell_type": "code",
      "source": [
        "model2 = make_pipeline(\n",
        "    OneHotEncoder(handle_unknown='ignore'),\n",
        "    Ridge(fit_intercept=True)\n",
        ")\n",
        "\n",
        "model2.fit(X_train,y_train)\n",
        "\n",
        "y_pred = model2.predict(X_test)\n",
        "print(\"Model mean absolute error: \", mean_absolute_error(y_test, y_pred))\n",
        "print(\"Model score: \", model2.score(X_test,y_test))"
      ],
      "metadata": {
        "colab": {
          "base_uri": "https://localhost:8080/"
        },
        "id": "Kxb5onX-wfnZ",
        "outputId": "1248aae5-c1b5-4987-8b56-5718f675a8de"
      },
      "execution_count": 22,
      "outputs": [
        {
          "output_type": "stream",
          "name": "stdout",
          "text": [
            "Model mean absolute error:  0.2958480835283383\n",
            "Model score:  0.725537125584947\n"
          ]
        }
      ]
    },
    {
      "cell_type": "code",
      "source": [
        "df2.drop(columns='Model',inplace=True)"
      ],
      "metadata": {
        "id": "NN5OYMYmLtN_"
      },
      "execution_count": 23,
      "outputs": []
    },
    {
      "cell_type": "code",
      "source": [
        "target = 'Price'\n",
        "X2 =df2.drop(columns=target)\n",
        "y2=df2[target]\n",
        "y2.hist()"
      ],
      "metadata": {
        "colab": {
          "base_uri": "https://localhost:8080/",
          "height": 282
        },
        "id": "G7N4hiLJZRkT",
        "outputId": "455dc120-8801-46fa-8ac1-6bed00027334"
      },
      "execution_count": 24,
      "outputs": [
        {
          "output_type": "execute_result",
          "data": {
            "text/plain": [
              "<matplotlib.axes._subplots.AxesSubplot at 0x7f16780bb8e0>"
            ]
          },
          "metadata": {},
          "execution_count": 24
        },
        {
          "output_type": "display_data",
          "data": {
            "text/plain": [
              "<Figure size 432x288 with 1 Axes>"
            ],
            "image/png": "[encoded data removed]"
          },
          "metadata": {
            "needs_background": "light"
          }
        }
      ]
    },
    {
      "cell_type": "code",
      "source": [
        "y2=np.log(y2)\n",
        "y2.hist()"
      ],
      "metadata": {
        "colab": {
          "base_uri": "https://localhost:8080/",
          "height": 282
        },
        "id": "d-GRq5ChZYON",
        "outputId": "bd75cb0f-7e3f-4732-c133-3694fff6be30"
      },
      "execution_count": 25,
      "outputs": [
        {
          "output_type": "execute_result",
          "data": {
            "text/plain": [
              "<matplotlib.axes._subplots.AxesSubplot at 0x7f1677ff12e0>"
            ]
          },
          "metadata": {},
          "execution_count": 25
        },
        {
          "output_type": "display_data",
          "data": {
            "text/plain": [
              "<Figure size 432x288 with 1 Axes>"
            ],
            "image/png": "[encoded data removed]"
          },
          "metadata": {
            "needs_background": "light"
          }
        }
      ]
    },
    {
      "cell_type": "markdown",
      "source": [
        "# Best Model Score"
      ],
      "metadata": {
        "id": "JEi6sN-ZjkBQ"
      }
    },
    {
      "cell_type": "code",
      "source": [
        "X2_train,X2_test,y2_train,y2_test = train_test_split(X2,y2,test_size=0.2,random_state=42)"
      ],
      "metadata": {
        "id": "bXdeQJ64ZdYp"
      },
      "execution_count": 26,
      "outputs": []
    },
    {
      "cell_type": "code",
      "source": [
        "model2.fit(X2_train,y2_train)\n",
        "\n",
        "y2_pred = model2.predict(X2_test)\n",
        "print(\"Model mean absolute error: \", mean_absolute_error(y2_test, y2_pred))\n",
        "print(\"Model r2 score: \", r2_score(y2_test, y2_pred))\n"
      ],
      "metadata": {
        "colab": {
          "base_uri": "https://localhost:8080/"
        },
        "id": "FcdqaA5kZlir",
        "outputId": "34eaf92e-5f33-4352-ca79-52c416c5325c"
      },
      "execution_count": 27,
      "outputs": [
        {
          "output_type": "stream",
          "name": "stdout",
          "text": [
            "Model mean absolute error:  0.2942687413726567\n",
            "Model r2 score:  0.7294499486078845\n"
          ]
        }
      ]
    },
    {
      "cell_type": "markdown",
      "source": [
        "# Permutated Features"
      ],
      "metadata": {
        "id": "4R71U52wjpwc"
      }
    },
    {
      "cell_type": "code",
      "source": [
        "from sklearn.inspection import permutation_importance\n",
        "perm_imp = permutation_importance(model2,X2_test,y2_test, random_state=42)\n",
        "\n",
        "data_perm = {'importance_mean':perm_imp['importances_mean'],\n",
        "             'importance_std':perm_imp['importances_std']}\n",
        "df_perm = pd.DataFrame(data_perm, index=X2_test.columns).sort_values('importance_mean')"
      ],
      "metadata": {
        "id": "rzr2xcjXbD7N"
      },
      "execution_count": 28,
      "outputs": []
    },
    {
      "cell_type": "code",
      "source": [
        "df_perm"
      ],
      "metadata": {
        "colab": {
          "base_uri": "https://localhost:8080/",
          "height": 833
        },
        "id": "SnqgjB9pchRJ",
        "outputId": "1013ca4e-1479-4b29-afbd-a97e9128b845"
      },
      "execution_count": 29,
      "outputs": [
        {
          "output_type": "execute_result",
          "data": {
            "text/plain": [
              "                        importance_mean  importance_std\n",
              "Battery_capacity_(mAh)        -0.003780        0.004605\n",
              "Windows                       -0.000732        0.001570\n",
              "Wi-Fi                         -0.000088        0.000268\n",
              "3G                            -0.000010        0.001054\n",
              "Tizen                          0.000000        0.000000\n",
              "Sailfish                       0.000000        0.000000\n",
              "4G/_LTE                        0.000187        0.000260\n",
              "BlackBerry                     0.000455        0.000363\n",
              "Bluetooth                      0.000978        0.000701\n",
              "Cyanogen                       0.001018        0.001944\n",
              "Touchscreen                    0.001106        0.001680\n",
              "GPS                            0.001756        0.000833\n",
              "Number_of_SIMs                 0.004146        0.001924\n",
              "Processor                      0.005053        0.004045\n",
              "Android                        0.005310        0.003544\n",
              "Screen_pixels                  0.008694        0.004548\n",
              "Resolution_Height              0.009211        0.003835\n",
              "iOS                            0.017828        0.001926\n",
              "Front_camera                   0.032758        0.007401\n",
              "Screen_size_(inches)           0.043331        0.005730\n",
              "Resolution_Width               0.050899        0.010251\n",
              "Internal_storage_(GB)          0.067343        0.010839\n",
              "Rear_camera                    0.080589        0.009260\n",
              "RAM_(MB)                       0.085978        0.010639\n",
              "Brand                          0.191095        0.027214"
            ],
            "text/html": [
              "\n",
              "  <div id=\"df-7bd86eae-dbdf-472b-9167-3c68478729bd\">\n",
              "    <div class=\"colab-df-container\">\n",
              "      <div>\n",
              "<style scoped>\n",
              "    .dataframe tbody tr th:only-of-type {\n",
              "        vertical-align: middle;\n",
              "    }\n",
              "\n",
              "    .dataframe tbody tr th {\n",
              "        vertical-align: top;\n",
              "    }\n",
              "\n",
              "    .dataframe thead th {\n",
              "        text-align: right;\n",
              "    }\n",
              "</style>\n",
              "<table border=\"1\" class=\"dataframe\">\n",
              "  <thead>\n",
              "    <tr style=\"text-align: right;\">\n",
              "      <th></th>\n",
              "      <th>importance_mean</th>\n",
              "      <th>importance_std</th>\n",
              "    </tr>\n",
              "  </thead>\n",
              "  <tbody>\n",
              "    <tr>\n",
              "      <th>Battery_capacity_(mAh)</th>\n",
              "      <td>-0.003780</td>\n",
              "      <td>0.004605</td>\n",
              "    </tr>\n",
              "    <tr>\n",
              "      <th>Windows</th>\n",
              "      <td>-0.000732</td>\n",
              "      <td>0.001570</td>\n",
              "    </tr>\n",
              "    <tr>\n",
              "      <th>Wi-Fi</th>\n",
              "      <td>-0.000088</td>\n",
              "      <td>0.000268</td>\n",
              "    </tr>\n",
              "    <tr>\n",
              "      <th>3G</th>\n",
              "      <td>-0.000010</td>\n",
              "      <td>0.001054</td>\n",
              "    </tr>\n",
              "    <tr>\n",
              "      <th>Tizen</th>\n",
              "      <td>0.000000</td>\n",
              "      <td>0.000000</td>\n",
              "    </tr>\n",
              "    <tr>\n",
              "      <th>Sailfish</th>\n",
              "      <td>0.000000</td>\n",
              "      <td>0.000000</td>\n",
              "    </tr>\n",
              "    <tr>\n",
              "      <th>4G/_LTE</th>\n",
              "      <td>0.000187</td>\n",
              "      <td>0.000260</td>\n",
              "    </tr>\n",
              "    <tr>\n",
              "      <th>BlackBerry</th>\n",
              "      <td>0.000455</td>\n",
              "      <td>0.000363</td>\n",
              "    </tr>\n",
              "    <tr>\n",
              "      <th>Bluetooth</th>\n",
              "      <td>0.000978</td>\n",
              "      <td>0.000701</td>\n",
              "    </tr>\n",
              "    <tr>\n",
              "      <th>Cyanogen</th>\n",
              "      <td>0.001018</td>\n",
              "      <td>0.001944</td>\n",
              "    </tr>\n",
              "    <tr>\n",
              "      <th>Touchscreen</th>\n",
              "      <td>0.001106</td>\n",
              "      <td>0.001680</td>\n",
              "    </tr>\n",
              "    <tr>\n",
              "      <th>GPS</th>\n",
              "      <td>0.001756</td>\n",
              "      <td>0.000833</td>\n",
              "    </tr>\n",
              "    <tr>\n",
              "      <th>Number_of_SIMs</th>\n",
              "      <td>0.004146</td>\n",
              "      <td>0.001924</td>\n",
              "    </tr>\n",
              "    <tr>\n",
              "      <th>Processor</th>\n",
              "      <td>0.005053</td>\n",
              "      <td>0.004045</td>\n",
              "    </tr>\n",
              "    <tr>\n",
              "      <th>Android</th>\n",
              "      <td>0.005310</td>\n",
              "      <td>0.003544</td>\n",
              "    </tr>\n",
              "    <tr>\n",
              "      <th>Screen_pixels</th>\n",
              "      <td>0.008694</td>\n",
              "      <td>0.004548</td>\n",
              "    </tr>\n",
              "    <tr>\n",
              "      <th>Resolution_Height</th>\n",
              "      <td>0.009211</td>\n",
              "      <td>0.003835</td>\n",
              "    </tr>\n",
              "    <tr>\n",
              "      <th>iOS</th>\n",
              "      <td>0.017828</td>\n",
              "      <td>0.001926</td>\n",
              "    </tr>\n",
              "    <tr>\n",
              "      <th>Front_camera</th>\n",
              "      <td>0.032758</td>\n",
              "      <td>0.007401</td>\n",
              "    </tr>\n",
              "    <tr>\n",
              "      <th>Screen_size_(inches)</th>\n",
              "      <td>0.043331</td>\n",
              "      <td>0.005730</td>\n",
              "    </tr>\n",
              "    <tr>\n",
              "      <th>Resolution_Width</th>\n",
              "      <td>0.050899</td>\n",
              "      <td>0.010251</td>\n",
              "    </tr>\n",
              "    <tr>\n",
              "      <th>Internal_storage_(GB)</th>\n",
              "      <td>0.067343</td>\n",
              "      <td>0.010839</td>\n",
              "    </tr>\n",
              "    <tr>\n",
              "      <th>Rear_camera</th>\n",
              "      <td>0.080589</td>\n",
              "      <td>0.009260</td>\n",
              "    </tr>\n",
              "    <tr>\n",
              "      <th>RAM_(MB)</th>\n",
              "      <td>0.085978</td>\n",
              "      <td>0.010639</td>\n",
              "    </tr>\n",
              "    <tr>\n",
              "      <th>Brand</th>\n",
              "      <td>0.191095</td>\n",
              "      <td>0.027214</td>\n",
              "    </tr>\n",
              "  </tbody>\n",
              "</table>\n",
              "</div>\n",
              "      <button class=\"colab-df-convert\" onclick=\"convertToInteractive('df-7bd86eae-dbdf-472b-9167-3c68478729bd')\"\n",
              "              title=\"Convert this dataframe to an interactive table.\"\n",
              "              style=\"display:none;\">\n",
              "        \n",
              "  <svg xmlns=\"http://www.w3.org/2000/svg\" height=\"24px\"viewBox=\"0 0 24 24\"\n",
              "       width=\"24px\">\n",
              "    <path d=\"M0 0h24v24H0V0z\" fill=\"none\"/>\n",
              "    <path d=\"M18.56 5.44l.94 2.06.94-2.06 2.06-.94-2.06-.94-.94-2.06-.94 2.06-2.06.94zm-11 1L8.5 8.5l.94-2.06 2.06-.94-2.06-.94L8.5 2.5l-.94 2.06-2.06.94zm10 10l.94 2.06.94-2.06 2.06-.94-2.06-.94-.94-2.06-.94 2.06-2.06.94z\"/><path d=\"M17.41 7.96l-1.37-1.37c-.4-.4-.92-.59-1.43-.59-.52 0-1.04.2-1.43.59L10.3 9.45l-7.72 7.72c-.78.78-.78 2.05 0 2.83L4 21.41c.39.39.9.59 1.41.59.51 0 1.02-.2 1.41-.59l7.78-7.78 2.81-2.81c.8-.78.8-2.07 0-2.86zM5.41 20L4 18.59l7.72-7.72 1.47 1.35L5.41 20z\"/>\n",
              "  </svg>\n",
              "      </button>\n",
              "      \n",
              "  <style>\n",
              "    .colab-df-container {\n",
              "      display:flex;\n",
              "      flex-wrap:wrap;\n",
              "      gap: 12px;\n",
              "    }\n",
              "\n",
              "    .colab-df-convert {\n",
              "      background-color: #E8F0FE;\n",
              "      border: none;\n",
              "      border-radius: 50%;\n",
              "      cursor: pointer;\n",
              "      display: none;\n",
              "      fill: #1967D2;\n",
              "      height: 32px;\n",
              "      padding: 0 0 0 0;\n",
              "      width: 32px;\n",
              "    }\n",
              "\n",
              "    .colab-df-convert:hover {\n",
              "      background-color: #E2EBFA;\n",
              "      box-shadow: 0px 1px 2px rgba(60, 64, 67, 0.3), 0px 1px 3px 1px rgba(60, 64, 67, 0.15);\n",
              "      fill: #174EA6;\n",
              "    }\n",
              "\n",
              "    [theme=dark] .colab-df-convert {\n",
              "      background-color: #3B4455;\n",
              "      fill: #D2E3FC;\n",
              "    }\n",
              "\n",
              "    [theme=dark] .colab-df-convert:hover {\n",
              "      background-color: #434B5C;\n",
              "      box-shadow: 0px 1px 3px 1px rgba(0, 0, 0, 0.15);\n",
              "      filter: drop-shadow(0px 1px 2px rgba(0, 0, 0, 0.3));\n",
              "      fill: #FFFFFF;\n",
              "    }\n",
              "  </style>\n",
              "\n",
              "      <script>\n",
              "        const buttonEl =\n",
              "          document.querySelector('#df-7bd86eae-dbdf-472b-9167-3c68478729bd button.colab-df-convert');\n",
              "        buttonEl.style.display =\n",
              "          google.colab.kernel.accessAllowed ? 'block' : 'none';\n",
              "\n",
              "        async function convertToInteractive(key) {\n",
              "          const element = document.querySelector('#df-7bd86eae-dbdf-472b-9167-3c68478729bd');\n",
              "          const dataTable =\n",
              "            await google.colab.kernel.invokeFunction('convertToInteractive',\n",
              "                                                     [key], {});\n",
              "          if (!dataTable) return;\n",
              "\n",
              "          const docLinkHtml = 'Like what you see? Visit the ' +\n",
              "            '<a target=\"_blank\" href=https://colab.research.google.com/notebooks/data_table.ipynb>data table notebook</a>'\n",
              "            + ' to learn more about interactive tables.';\n",
              "          element.innerHTML = '';\n",
              "          dataTable['output_type'] = 'display_data';\n",
              "          await google.colab.output.renderOutput(dataTable, element);\n",
              "          const docLink = document.createElement('div');\n",
              "          docLink.innerHTML = docLinkHtml;\n",
              "          element.appendChild(docLink);\n",
              "        }\n",
              "      </script>\n",
              "    </div>\n",
              "  </div>\n",
              "  "
            ]
          },
          "metadata": {},
          "execution_count": 29
        }
      ]
    },
    {
      "cell_type": "code",
      "source": [
        "# Permute the values in the more important column\n",
        "feature = 'Processor'\n",
        "X2_test_permuted = X2_test.copy()\n",
        "\n",
        "# Fill in missing values\n",
        "X2_test_permuted[feature].fillna(value = X2_test_permuted[feature].median(), inplace=True)\n",
        "\n",
        "# Permute\n",
        "X2_test_permuted[feature] = np.random.permutation(X_test[feature])\n",
        "\n",
        "print('Feature permuted: ', feature)\n",
        "print('Validation Accuracy', model2.score(X2_test, y2_test))\n",
        "print('Validation Accuracy (permuted)', model2.score(X2_test_permuted, y2_test))\n",
        "\n"
      ],
      "metadata": {
        "colab": {
          "base_uri": "https://localhost:8080/"
        },
        "id": "lQMf70UKkFwR",
        "outputId": "4fc697c6-e7c4-4095-e438-eaaed8cb18a0"
      },
      "execution_count": 30,
      "outputs": [
        {
          "output_type": "stream",
          "name": "stdout",
          "text": [
            "Feature permuted:  Processor\n",
            "Validation Accuracy 0.7294499486078845\n",
            "Validation Accuracy (permuted) 0.7245215361502289\n"
          ]
        }
      ]
    },
    {
      "cell_type": "code",
      "source": [
        "feature = 'Screen_pixels'\n",
        "X2_test_permuted = X2_test.copy()\n",
        "\n",
        "# Fill in missing values\n",
        "X2_test_permuted[feature].fillna(value = X2_test_permuted[feature].median(), inplace=True)\n",
        "\n",
        "# Permute\n",
        "X2_test_permuted[feature] = np.random.permutation(X_test[feature])\n",
        "\n",
        "print('Feature permuted: ', feature)\n",
        "print('Validation Accuracy', model2.score(X2_test, y2_test))\n",
        "print('Validation Accuracy (permuted)', model2.score(X2_test_permuted, y2_test))\n"
      ],
      "metadata": {
        "colab": {
          "base_uri": "https://localhost:8080/"
        },
        "id": "6S7RX59Lkh-Y",
        "outputId": "717bb66f-6d57-4d63-e9b6-daceddda34d1"
      },
      "execution_count": 31,
      "outputs": [
        {
          "output_type": "stream",
          "name": "stdout",
          "text": [
            "Feature permuted:  Screen_pixels\n",
            "Validation Accuracy 0.7294499486078845\n",
            "Validation Accuracy (permuted) 0.7089143067546314\n"
          ]
        }
      ]
    },
    {
      "cell_type": "code",
      "source": [
        "feature = 'RAM_(MB)'\n",
        "X2_test_permuted = X2_test.copy()\n",
        "\n",
        "# Fill in missing values\n",
        "X2_test_permuted[feature].fillna(value = X2_test_permuted[feature].median(), inplace=True)\n",
        "\n",
        "# Permute\n",
        "X2_test_permuted[feature] = np.random.permutation(X_test[feature])\n",
        "\n",
        "print('Feature permuted: ', feature)\n",
        "print('Validation Accuracy', model2.score(X2_test, y2_test))\n",
        "print('Validation Accuracy (permuted)', model2.score(X2_test_permuted, y2_test))\n",
        "\n",
        "#Significant feature for effecting price"
      ],
      "metadata": {
        "colab": {
          "base_uri": "https://localhost:8080/"
        },
        "id": "cughy9RFlmUM",
        "outputId": "2a29fe73-4347-4400-8a6c-fe9e9e3d7666"
      },
      "execution_count": 32,
      "outputs": [
        {
          "output_type": "stream",
          "name": "stdout",
          "text": [
            "Feature permuted:  RAM_(MB)\n",
            "Validation Accuracy 0.7294499486078845\n",
            "Validation Accuracy (permuted) 0.673726890625262\n"
          ]
        }
      ]
    },
    {
      "cell_type": "code",
      "source": [
        "feature = 'Internal_storage_(GB)'\n",
        "X2_test_permuted = X2_test.copy()\n",
        "\n",
        "# Fill in missing values\n",
        "X2_test_permuted[feature].fillna(value = X2_test_permuted[feature].median(), inplace=True)\n",
        "\n",
        "# Permute\n",
        "X2_test_permuted[feature] = np.random.permutation(X_test[feature])\n",
        "\n",
        "print('Feature permuted: ', feature)\n",
        "print('Validation Accuracy', model2.score(X2_test, y2_test))\n",
        "print('Validation Accuracy (permuted)', model2.score(X2_test_permuted, y2_test))\n",
        "\n",
        "#Significant feature for effecting price"
      ],
      "metadata": {
        "colab": {
          "base_uri": "https://localhost:8080/"
        },
        "id": "9DeoH32ll-o8",
        "outputId": "56daa59a-e40d-4304-be94-e787149102a8"
      },
      "execution_count": 33,
      "outputs": [
        {
          "output_type": "stream",
          "name": "stdout",
          "text": [
            "Feature permuted:  Internal_storage_(GB)\n",
            "Validation Accuracy 0.7294499486078845\n",
            "Validation Accuracy (permuted) 0.6598299878940113\n"
          ]
        }
      ]
    },
    {
      "cell_type": "code",
      "source": [
        "feature = 'Brand'\n",
        "X2_test_permuted = X2_test.copy()\n",
        "\n",
        "# Fill in missing values\n",
        "X2_test_permuted[feature].fillna(value = X2_test_permuted[feature].mode(), inplace=True)\n",
        "\n",
        "# Permute\n",
        "X2_test_permuted[feature] = np.random.permutation(X_test[feature])\n",
        "\n",
        "print('Feature permuted: ', feature)\n",
        "print('Validation Accuracy', model2.score(X2_test, y2_test))\n",
        "print('Validation Accuracy (permuted)', model2.score(X2_test_permuted, y2_test))\n",
        "\n",
        "#Significant feature for effecting price"
      ],
      "metadata": {
        "colab": {
          "base_uri": "https://localhost:8080/"
        },
        "id": "Lm3hm3TUmad-",
        "outputId": "09583c74-217d-45fc-8238-54ab19e4dee3"
      },
      "execution_count": 34,
      "outputs": [
        {
          "output_type": "stream",
          "name": "stdout",
          "text": [
            "Feature permuted:  Brand\n",
            "Validation Accuracy 0.7294499486078845\n",
            "Validation Accuracy (permuted) 0.506479143685153\n"
          ]
        }
      ]
    },
    {
      "cell_type": "code",
      "source": [
        "feature = 'Number_of_SIMs'\n",
        "X2_test_permuted = X2_test.copy()\n",
        "\n",
        "# Fill in missing values\n",
        "X2_test_permuted[feature].fillna(value = X2_test_permuted[feature].median(), inplace=True)\n",
        "\n",
        "# Permute\n",
        "X2_test_permuted[feature] = np.random.permutation(X_test[feature])\n",
        "\n",
        "print('Feature permuted: ', feature)\n",
        "print('Validation Accuracy', model2.score(X2_test, y2_test))\n",
        "print('Validation Accuracy (permuted)', model2.score(X2_test_permuted, y2_test))\n"
      ],
      "metadata": {
        "colab": {
          "base_uri": "https://localhost:8080/"
        },
        "id": "XPL6y6b7mp1B",
        "outputId": "a37303de-b7c0-4a5a-9d70-b4eac7dabc65"
      },
      "execution_count": 35,
      "outputs": [
        {
          "output_type": "stream",
          "name": "stdout",
          "text": [
            "Feature permuted:  Number_of_SIMs\n",
            "Validation Accuracy 0.7294499486078845\n",
            "Validation Accuracy (permuted) 0.7274709883203725\n"
          ]
        }
      ]
    },
    {
      "cell_type": "code",
      "source": [
        "feature = 'Screen_size_(inches)'\n",
        "X2_test_permuted = X2_test.copy()\n",
        "\n",
        "# Fill in missing values\n",
        "X2_test_permuted[feature].fillna(value = X2_test_permuted[feature].median(), inplace=True)\n",
        "\n",
        "# Permute\n",
        "X2_test_permuted[feature] = np.random.permutation(X_test[feature])\n",
        "\n",
        "print('Feature permuted: ', feature)\n",
        "print('Validation Accuracy', model2.score(X2_test, y2_test))\n",
        "print('Validation Accuracy (permuted)', model2.score(X2_test_permuted, y2_test))\n"
      ],
      "metadata": {
        "colab": {
          "base_uri": "https://localhost:8080/"
        },
        "id": "1U1UF6s9nokb",
        "outputId": "66bd5932-c440-4aa2-8aa4-8ff63159a863"
      },
      "execution_count": 36,
      "outputs": [
        {
          "output_type": "stream",
          "name": "stdout",
          "text": [
            "Feature permuted:  Screen_size_(inches)\n",
            "Validation Accuracy 0.7294499486078845\n",
            "Validation Accuracy (permuted) 0.7007799432607338\n"
          ]
        }
      ]
    },
    {
      "cell_type": "code",
      "source": [
        "feature = 'Processor'\n",
        "X2_test_permuted = X2_test.copy()\n",
        "\n",
        "# Fill in missing values\n",
        "X2_test_permuted[feature].fillna(value = X2_test_permuted[feature].median(), inplace=True)\n",
        "\n",
        "# Permute\n",
        "X2_test_permuted[feature] = np.random.permutation(X_test[feature])\n",
        "\n",
        "print('Feature permuted: ', feature)\n",
        "print('Validation Accuracy', model2.score(X2_test, y2_test))\n",
        "print('Validation Accuracy (permuted)', model2.score(X2_test_permuted, y2_test))"
      ],
      "metadata": {
        "colab": {
          "base_uri": "https://localhost:8080/"
        },
        "id": "IKbS-N1Xo92d",
        "outputId": "c6b8d169-b55b-46d1-f9e0-60eaa5907af4"
      },
      "execution_count": 37,
      "outputs": [
        {
          "output_type": "stream",
          "name": "stdout",
          "text": [
            "Feature permuted:  Processor\n",
            "Validation Accuracy 0.7294499486078845\n",
            "Validation Accuracy (permuted) 0.7268064109575321\n"
          ]
        }
      ]
    },
    {
      "cell_type": "code",
      "source": [
        "feature = '4G/_LTE'\n",
        "X2_test_permuted = X2_test.copy()\n",
        "\n",
        "# Fill in missing values\n",
        "X2_test_permuted[feature].fillna(value = X2_test_permuted[feature].median(), inplace=True)\n",
        "\n",
        "# Permute\n",
        "X2_test_permuted[feature] = np.random.permutation(X_test[feature])\n",
        "\n",
        "print('Feature permuted: ', feature)\n",
        "print('Validation Accuracy', model2.score(X2_test, y2_test))\n",
        "print('Validation Accuracy (permuted)', model2.score(X2_test_permuted, y2_test))\n"
      ],
      "metadata": {
        "colab": {
          "base_uri": "https://localhost:8080/"
        },
        "id": "bIew64wJpK-5",
        "outputId": "b3065cb6-fbfa-4e59-b405-faa01c35d698"
      },
      "execution_count": 38,
      "outputs": [
        {
          "output_type": "stream",
          "name": "stdout",
          "text": [
            "Feature permuted:  4G/_LTE\n",
            "Validation Accuracy 0.7294499486078845\n",
            "Validation Accuracy (permuted) 0.7290991951443865\n"
          ]
        }
      ]
    },
    {
      "cell_type": "markdown",
      "source": [
        "# Partial Dependance Plot"
      ],
      "metadata": {
        "id": "e2hKa71UpxBW"
      }
    },
    {
      "cell_type": "code",
      "source": [
        "from sklearn.inspection import plot_partial_dependence\n",
        "\n",
        "fig, ax = plt.subplots(1,1, figsize=(12,4))\n",
        "plot_partial_dependence(model2, \n",
        "                        features=['RAM_(MB)','Internal_storage_(GB)'], \n",
        "                        X=X2, grid_resolution=50, ax=ax);"
      ],
      "metadata": {
        "colab": {
          "base_uri": "https://localhost:8080/",
          "height": 335
        },
        "id": "NbPGm34zpc-q",
        "outputId": "ed3efabf-f109-4cdf-ba63-f48232a9464f"
      },
      "execution_count": 39,
      "outputs": [
        {
          "output_type": "stream",
          "name": "stderr",
          "text": [
            "/usr/local/lib/python3.8/dist-packages/sklearn/utils/deprecation.py:87: FutureWarning: Function plot_partial_dependence is deprecated; Function `plot_partial_dependence` is deprecated in 1.0 and will be removed in 1.2. Use PartialDependenceDisplay.from_estimator instead\n",
            "  warnings.warn(msg, category=FutureWarning)\n"
          ]
        },
        {
          "output_type": "display_data",
          "data": {
            "text/plain": [
              "<Figure size 864x288 with 3 Axes>"
            ],
            "image/png": "[encoded data removed]"
          },
          "metadata": {
            "needs_background": "light"
          }
        }
      ]
    },
    {
      "cell_type": "code",
      "source": [],
      "metadata": {
        "id": "-s_rjCs7tKRf"
      },
      "execution_count": 39,
      "outputs": []
    }
  ]
}